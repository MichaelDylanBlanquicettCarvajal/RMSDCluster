{
 "cells": [
  {
   "cell_type": "code",
   "execution_count": 1,
   "id": "b571582b",
   "metadata": {},
   "outputs": [],
   "source": [
    "import mdtraj as md"
   ]
  },
  {
   "cell_type": "code",
   "execution_count": 2,
   "id": "951e2fe9",
   "metadata": {},
   "outputs": [],
   "source": [
    "import numpy as np"
   ]
  },
  {
   "cell_type": "code",
   "execution_count": 6,
   "id": "65704ccb",
   "metadata": {},
   "outputs": [],
   "source": [
    "trajectory = md.load('traj.pdb')"
   ]
  },
  {
   "cell_type": "code",
   "execution_count": 7,
   "id": "18bb4f57",
   "metadata": {},
   "outputs": [],
   "source": [
    "atom_indices = list(range(0, 40))"
   ]
  },
  {
   "cell_type": "code",
   "execution_count": 8,
   "id": "d600dffb",
   "metadata": {},
   "outputs": [],
   "source": [
    "trajectory_reduced = trajectory.atom_slice(atom_indices)"
   ]
  },
  {
   "cell_type": "code",
   "execution_count": 9,
   "id": "6514c9dd",
   "metadata": {},
   "outputs": [],
   "source": [
    "rmsd_matrix = np.zeros((trajectory_reduced.n_frames, trajectory_reduced.n_frames))\n",
    "for i in range(trajectory_reduced.n_frames):\n",
    "    rmsd_matrix[i, :] = md.rmsd(trajectory_reduced, trajectory_reduced, frame=i)"
   ]
  },
  {
   "cell_type": "code",
   "execution_count": 10,
   "id": "7321e7ab",
   "metadata": {},
   "outputs": [],
   "source": [
    "from sklearn.cluster import DBSCAN"
   ]
  },
  {
   "cell_type": "code",
   "execution_count": 131,
   "id": "a6f692c9",
   "metadata": {},
   "outputs": [],
   "source": [
    "#dbscan = DBSCAN(eps=0.3, min_samples=7, metric='precomputed')\n",
    "#cluster_labels = dbscan.fit_predict(rmsd_matrix)"
   ]
  },
  {
   "cell_type": "code",
   "execution_count": 11,
   "id": "94d2790d",
   "metadata": {},
   "outputs": [],
   "source": [
    "from sklearn.cluster import KMeans"
   ]
  },
  {
   "cell_type": "code",
   "execution_count": 12,
   "id": "0c0b4cb0",
   "metadata": {},
   "outputs": [],
   "source": [
    "kmeans = KMeans(n_clusters=5)  # Puedes probar con 5, 7, o más clusters\n",
    "cluster_labels = kmeans.fit_predict(rmsd_matrix)"
   ]
  },
  {
   "cell_type": "code",
   "execution_count": 134,
   "id": "f0d33284",
   "metadata": {},
   "outputs": [],
   "source": [
    "import matplotlib.pyplot as plt"
   ]
  },
  {
   "cell_type": "code",
   "execution_count": 135,
   "id": "596ebf24",
   "metadata": {},
   "outputs": [
    {
     "data": {
      "image/png": "[encoded data removed]",
      "text/plain": [
       "<Figure size 432x288 with 1 Axes>"
      ]
     },
     "metadata": {
      "needs_background": "light"
     },
     "output_type": "display_data"
    }
   ],
   "source": [
    "plt.hist(cluster_labels[cluster_labels != -1], bins=np.arange(0, np.max(cluster_labels)+2)-0.5, rwidth=0.8)\n",
    "plt.xlabel('Cluster ID')\n",
    "plt.ylabel('Número de Frames')\n",
    "plt.show()"
   ]
  },
  {
   "cell_type": "code",
   "execution_count": 136,
   "id": "2689476e",
   "metadata": {},
   "outputs": [],
   "source": [
    "from collections import Counter"
   ]
  },
  {
   "cell_type": "code",
   "execution_count": 137,
   "id": "982fdfc7",
   "metadata": {},
   "outputs": [
    {
     "name": "stdout",
     "output_type": "stream",
     "text": [
      "Etiquetas de clusters: Counter({1: 8, 0: 5, 3: 5, 2: 4, 4: 4})\n"
     ]
    }
   ],
   "source": [
    "print(\"Etiquetas de clusters:\", Counter(cluster_labels))"
   ]
  },
  {
   "cell_type": "code",
   "execution_count": 138,
   "id": "c51386f8",
   "metadata": {},
   "outputs": [],
   "source": [
    "rmsd_matrix = rmsd_matrix / rmsd_matrix.max()"
   ]
  },
  {
   "cell_type": "code",
   "execution_count": 139,
   "id": "44cb6d2a",
   "metadata": {},
   "outputs": [
    {
     "data": {
      "image/png": "[encoded data removed]",
      "text/plain": [
       "<Figure size 432x288 with 1 Axes>"
      ]
     },
     "metadata": {
      "needs_background": "light"
     },
     "output_type": "display_data"
    }
   ],
   "source": [
    "distances = rmsd_matrix[np.triu_indices_from(rmsd_matrix, k=1)]\n",
    "plt.hist(distances, bins=30)\n",
    "plt.xlabel(\"RMSD\")\n",
    "plt.ylabel(\"Frecuencia\")\n",
    "plt.title(\"Distribución de Distancias RMSD\")\n",
    "plt.show()"
   ]
  },
  {
   "cell_type": "code",
   "execution_count": 140,
   "id": "a10ee3cc",
   "metadata": {},
   "outputs": [],
   "source": [
    "from sklearn.neighbors import NearestNeighbors"
   ]
  },
  {
   "cell_type": "code",
   "execution_count": 141,
   "id": "72173486",
   "metadata": {},
   "outputs": [
    {
     "name": "stdout",
     "output_type": "stream",
     "text": [
      "Frames en cluster 0: [ 4  8 13 20 25]\n",
      "Frames en cluster 1: [ 0  2  3  7 19 21 22 24]\n",
      "Frames en cluster 2: [ 1  6  9 18]\n",
      "Frames en cluster 3: [10 14 15 17 23]\n",
      "Frames en cluster 4: [ 5 11 12 16]\n"
     ]
    }
   ],
   "source": [
    "for cluster_id in set(cluster_labels):\n",
    "    # Encuentra los índices de frames en cada cluster\n",
    "    cluster_indices = np.where(cluster_labels == cluster_id)[0]\n",
    "    print(f\"Frames en cluster {cluster_id}: {cluster_indices}\")\n",
    "    # Puedes analizar o visualizar estos frames individualmente\n"
   ]
  },
  {
   "cell_type": "code",
   "execution_count": 25,
   "id": "bd2f9fa7",
   "metadata": {},
   "outputs": [],
   "source": [
    "from collections import Counter"
   ]
  },
  {
   "cell_type": "code",
   "execution_count": 143,
   "id": "1f2396af",
   "metadata": {},
   "outputs": [
    {
     "name": "stdout",
     "output_type": "stream",
     "text": [
      "Cluster 1: 8 frames (30.77%)\n",
      "Cluster 2: 4 frames (15.38%)\n",
      "Cluster 0: 5 frames (19.23%)\n",
      "Cluster 4: 4 frames (15.38%)\n",
      "Cluster 3: 5 frames (19.23%)\n"
     ]
    }
   ],
   "source": [
    "cluster_counts = Counter(cluster_labels)\n",
    "total_frames = len(cluster_labels)\n",
    "for cluster_id, count in cluster_counts.items():\n",
    "    print(f\"Cluster {cluster_id}: {count} frames ({(count / total_frames) * 100:.2f}%)\")"
   ]
  },
  {
   "cell_type": "code",
   "execution_count": 172,
   "id": "719de304",
   "metadata": {},
   "outputs": [
    {
     "data": {
      "image/png": "[encoded data removed]",
      "text/plain": [
       "<Figure size 432x288 with 1 Axes>"
      ]
     },
     "metadata": {
      "needs_background": "light"
     },
     "output_type": "display_data"
    }
   ],
   "source": [
    "plt.plot(cluster_labels)\n",
    "plt.xlabel(\"Frame\")\n",
    "plt.ylabel(\"Cluster ID\")\n",
    "plt.title(\"Cluster Assignment over Time Kmeas\")\n",
    "plt.show()"
   ]
  },
  {
   "cell_type": "code",
   "execution_count": 14,
   "id": "278a79e0",
   "metadata": {},
   "outputs": [],
   "source": [
    "traj = md.load('traj.pdb')"
   ]
  },
  {
   "cell_type": "code",
   "execution_count": 19,
   "id": "68a50df5",
   "metadata": {},
   "outputs": [],
   "source": [
    "from sklearn.cluster import SpectralClustering"
   ]
  },
  {
   "cell_type": "code",
   "execution_count": 20,
   "id": "d7f898ba",
   "metadata": {},
   "outputs": [
    {
     "name": "stderr",
     "output_type": "stream",
     "text": [
      "<ipython-input-20-a82420d89be8>:1: DeprecationWarning: `np.int` is a deprecated alias for the builtin `int`. To silence this warning, use `int` by itself. Doing this will not modify any behavior and is safe. When replacing `np.int`, you may wish to use e.g. `np.int64` or `np.int32` to specify the precision. If you wish to review your current use, check the release note link for additional information.\n",
      "Deprecated in NumPy 1.20; for more details and guidance: https://numpy.org/devdocs/release/1.20.0-notes.html#deprecations\n",
      "  rmsd_values = md.rmsd(traj, traj, atom_indices=np.arange(40))\n"
     ]
    }
   ],
   "source": [
    "rmsd_values = md.rmsd(traj, traj, atom_indices=np.arange(40))"
   ]
  },
  {
   "cell_type": "code",
   "execution_count": 21,
   "id": "b7442a9b",
   "metadata": {},
   "outputs": [],
   "source": [
    "n_frames = traj.n_frames\n",
    "rmsd_matrix = np.zeros((n_frames, n_frames))"
   ]
  },
  {
   "cell_type": "code",
   "execution_count": 22,
   "id": "ad8a8581",
   "metadata": {},
   "outputs": [
    {
     "name": "stderr",
     "output_type": "stream",
     "text": [
      "<ipython-input-22-bddb2c1ee1f0>:2: DeprecationWarning: `np.int` is a deprecated alias for the builtin `int`. To silence this warning, use `int` by itself. Doing this will not modify any behavior and is safe. When replacing `np.int`, you may wish to use e.g. `np.int64` or `np.int32` to specify the precision. If you wish to review your current use, check the release note link for additional information.\n",
      "Deprecated in NumPy 1.20; for more details and guidance: https://numpy.org/devdocs/release/1.20.0-notes.html#deprecations\n",
      "  rmsd_matrix[i] = md.rmsd(traj, traj, atom_indices=np.arange(40), frame=i)\n"
     ]
    }
   ],
   "source": [
    "for i in range(n_frames):\n",
    "    rmsd_matrix[i] = md.rmsd(traj, traj, atom_indices=np.arange(40), frame=i)\n"
   ]
  },
  {
   "cell_type": "code",
   "execution_count": 23,
   "id": "bdf448a4",
   "metadata": {},
   "outputs": [
    {
     "name": "stderr",
     "output_type": "stream",
     "text": [
      "/home/luisa/anaconda3/lib/python3.8/site-packages/sklearn/utils/validation.py:63: UserWarning: Array is not symmetric, and will be converted to symmetric by average with its transpose.\n",
      "  return f(*args, **kwargs)\n"
     ]
    }
   ],
   "source": [
    "spectral = SpectralClustering(n_clusters=5, affinity='precomputed', assign_labels='discretize')\n",
    "cluster_labels2 = spectral.fit_predict(rmsd_matrix)\n"
   ]
  },
  {
   "cell_type": "code",
   "execution_count": 26,
   "id": "90d4e44f",
   "metadata": {},
   "outputs": [
    {
     "name": "stdout",
     "output_type": "stream",
     "text": [
      "Etiquetas de clusters: Counter({3: 11, 0: 7, 1: 6, 2: 1, 4: 1})\n"
     ]
    }
   ],
   "source": [
    "print(\"Etiquetas de clusters:\", Counter(cluster_labels2))"
   ]
  },
  {
   "cell_type": "code",
   "execution_count": 159,
   "id": "def2830f",
   "metadata": {},
   "outputs": [
    {
     "data": {
      "image/png": "[encoded data removed]",
      "text/plain": [
       "<Figure size 432x288 with 1 Axes>"
      ]
     },
     "metadata": {
      "needs_background": "light"
     },
     "output_type": "display_data"
    }
   ],
   "source": [
    "plt.hist(cluster_labels2[cluster_labels2 != -1], bins=np.arange(0, np.max(cluster_labels2)+2)-0.5, rwidth=0.8)\n",
    "plt.xlabel('Cluster ID')\n",
    "plt.ylabel('Número de Frames')\n",
    "plt.show()"
   ]
  },
  {
   "cell_type": "code",
   "execution_count": 170,
   "id": "9f395898",
   "metadata": {},
   "outputs": [
    {
     "name": "stdout",
     "output_type": "stream",
     "text": [
      "Frames en cluster 0: [ 0  2 12 17 18 21]\n",
      "Frames en cluster 1: [15]\n",
      "Frames en cluster 2: [ 1  3  4  7 10 11 13]\n",
      "Frames en cluster 3: [ 5  6  8  9 14 16 19 20 22 23 24]\n",
      "Frames en cluster 4: [25]\n"
     ]
    }
   ],
   "source": [
    "for cluster_id in set(cluster_labels2):\n",
    "    # Encuentra los índices de frames en cada cluster\n",
    "    cluster_indices2 = np.where(cluster_labels2 == cluster_id)[0]\n",
    "    print(f\"Frames en cluster {cluster_id}: {cluster_indices2}\")\n",
    "    # Puedes analizar o visualizar estos frames individualmente"
   ]
  },
  {
   "cell_type": "code",
   "execution_count": 168,
   "id": "21927d3e",
   "metadata": {},
   "outputs": [
    {
     "name": "stdout",
     "output_type": "stream",
     "text": [
      "Cluster 0: 6 frames (23.08%)\n",
      "Cluster 2: 7 frames (26.92%)\n",
      "Cluster 3: 11 frames (42.31%)\n",
      "Cluster 1: 1 frames (3.85%)\n",
      "Cluster 4: 1 frames (3.85%)\n"
     ]
    }
   ],
   "source": [
    "cluster_counts = Counter(cluster_labels2)\n",
    "total_frames = len(cluster_labels)\n",
    "for cluster_id, count in cluster_counts.items():\n",
    "    print(f\"Cluster {cluster_id}: {count} frames ({(count / total_frames) * 100:.2f}%)\")"
   ]
  },
  {
   "cell_type": "code",
   "execution_count": 169,
   "id": "c4552a5a",
   "metadata": {},
   "outputs": [
    {
     "data": {
      "image/png": "[encoded data removed]",
      "text/plain": [
       "<Figure size 432x288 with 1 Axes>"
      ]
     },
     "metadata": {
      "needs_background": "light"
     },
     "output_type": "display_data"
    }
   ],
   "source": [
    "plt.plot(cluster_labels2)\n",
    "plt.xlabel(\"Frame\")\n",
    "plt.ylabel(\"Cluster ID\")\n",
    "plt.title(\"Asignación de Cluster en el Tiempo\")\n",
    "plt.show()"
   ]
  },
  {
   "cell_type": "code",
   "execution_count": 3,
   "id": "294d1f98",
   "metadata": {},
   "outputs": [
    {
     "ename": "NameError",
     "evalue": "name 'cluster_labels' is not defined",
     "output_type": "error",
     "traceback": [
      "\u001b[0;31m---------------------------------------------------------------------------\u001b[0m",
      "\u001b[0;31mNameError\u001b[0m                                 Traceback (most recent call last)",
      "\u001b[0;32m<ipython-input-3-2b2b6aa217da>\u001b[0m in \u001b[0;36m<module>\u001b[0;34m\u001b[0m\n\u001b[1;32m      7\u001b[0m \u001b[0;34m\u001b[0m\u001b[0m\n\u001b[1;32m      8\u001b[0m \u001b[0;31m# Graficar cluster_labels\u001b[0m\u001b[0;34m\u001b[0m\u001b[0;34m\u001b[0m\u001b[0;34m\u001b[0m\u001b[0m\n\u001b[0;32m----> 9\u001b[0;31m \u001b[0mplt\u001b[0m\u001b[0;34m.\u001b[0m\u001b[0mplot\u001b[0m\u001b[0;34m(\u001b[0m\u001b[0mcluster_labels\u001b[0m\u001b[0;34m,\u001b[0m \u001b[0mlabel\u001b[0m\u001b[0;34m=\u001b[0m\u001b[0;34m'KMeans Cluster'\u001b[0m\u001b[0;34m,\u001b[0m \u001b[0mmarker\u001b[0m\u001b[0;34m=\u001b[0m\u001b[0;34m'o'\u001b[0m\u001b[0;34m,\u001b[0m \u001b[0mlinestyle\u001b[0m\u001b[0;34m=\u001b[0m\u001b[0;34m'-'\u001b[0m\u001b[0;34m,\u001b[0m \u001b[0mcolor\u001b[0m\u001b[0;34m=\u001b[0m\u001b[0;34m'b'\u001b[0m\u001b[0;34m,\u001b[0m \u001b[0malpha\u001b[0m\u001b[0;34m=\u001b[0m\u001b[0;36m0.7\u001b[0m\u001b[0;34m)\u001b[0m\u001b[0;34m\u001b[0m\u001b[0;34m\u001b[0m\u001b[0m\n\u001b[0m\u001b[1;32m     10\u001b[0m \u001b[0;34m\u001b[0m\u001b[0m\n\u001b[1;32m     11\u001b[0m \u001b[0;31m# Graficar cluster_labels2\u001b[0m\u001b[0;34m\u001b[0m\u001b[0;34m\u001b[0m\u001b[0;34m\u001b[0m\u001b[0m\n",
      "\u001b[0;31mNameError\u001b[0m: name 'cluster_labels' is not defined"
     ]
    },
    {
     "data": {
      "text/plain": [
       "<Figure size 864x432 with 0 Axes>"
      ]
     },
     "metadata": {},
     "output_type": "display_data"
    }
   ],
   "source": [
    "import matplotlib.pyplot as plt\n",
    "\n",
    "# Supongamos que ya has calculado cluster_labels y cluster_labels2\n",
    "\n",
    "# Crear una nueva figura\n",
    "plt.figure(figsize=(12, 6))\n",
    "\n",
    "# Graficar cluster_labels\n",
    "plt.plot(cluster_labels, label='KMeans Cluster', marker='o', linestyle='-', color='b', alpha=0.7)\n",
    "\n",
    "# Graficar cluster_labels2\n",
    "plt.plot(cluster_labels2, label='Spectral Clustering', marker='x', linestyle='--', color='r', alpha=0.7)\n",
    "\n",
    "# Añadir etiquetas y título\n",
    "plt.xlabel(\"Frame\")\n",
    "plt.ylabel(\"Cluster ID\")\n",
    "plt.title(\"Cluster Assignment over Time\")\n",
    "plt.legend()  # Añadir leyenda para identificar cada serie\n",
    "\n",
    "# Mostrar la gráfica\n",
    "plt.show()"
   ]
  },
  {
   "cell_type": "code",
   "execution_count": 177,
   "id": "26281a3f",
   "metadata": {},
   "outputs": [],
   "source": [
    "import numpy as np\n",
    "import pandas as pd\n",
    "import matplotlib.pyplot as plt\n",
    "import csv\n",
    "from scipy.spatial.distance import pdist,squareform\n",
    "from collections import OrderedDict\n",
    "from itertools import combinations,product\n",
    "from sklearn.cluster import SpectralClustering\n",
    "from sklearn.cluster import KMeans\n",
    "from sklearn.decomposition import PCA\n",
    "from sklearn.preprocessing import StandardScaler\n",
    "from sklearn.semi_supervised import LabelPropagation\n",
    "from sklearn import metrics\n",
    "from sklearn import datasets\n",
    "from sklearn.metrics import mean_squared_error,accuracy_score,mean_absolute_error,f1_score"
   ]
  },
  {
   "cell_type": "code",
   "execution_count": null,
   "id": "cd223032",
   "metadata": {},
   "outputs": [],
   "source": []
  },
  {
   "cell_type": "code",
   "execution_count": 182,
   "id": "a7f60f15",
   "metadata": {},
   "outputs": [],
   "source": [
    "import numpy as np\n",
    "import matplotlib.pyplot as plt\n",
    "from collections import OrderedDict\n",
    "from scipy.spatial.distance import pdist, squareform\n",
    "import MDAnalysis as mda"
   ]
  },
  {
   "cell_type": "code",
   "execution_count": 187,
   "id": "8b5cb224",
   "metadata": {},
   "outputs": [
    {
     "name": "stderr",
     "output_type": "stream",
     "text": [
      "/home/luisa/anaconda3/lib/python3.8/site-packages/MDAnalysis/topology/base.py:203: DeprecationWarning: `np.int` is a deprecated alias for the builtin `int`. To silence this warning, use `int` by itself. Doing this will not modify any behavior and is safe. When replacing `np.int`, you may wish to use e.g. `np.int64` or `np.int32` to specify the precision. If you wish to review your current use, check the release note link for additional information.\n",
      "Deprecated in NumPy 1.20; for more details and guidance: https://numpy.org/devdocs/release/1.20.0-notes.html#deprecations\n",
      "  residx = np.zeros_like(criteria[0], dtype=np.int)\n"
     ]
    },
    {
     "name": "stdout",
     "output_type": "stream",
     "text": [
      "number 3.365211248397827\n"
     ]
    },
    {
     "data": {
      "image/png": "[encoded data removed]",
      "text/plain": [
       "<Figure size 432x288 with 1 Axes>"
      ]
     },
     "metadata": {
      "needs_background": "light"
     },
     "output_type": "display_data"
    },
    {
     "name": "stdout",
     "output_type": "stream",
     "text": [
      "cluster-centers [2795 1281 3136]\n"
     ]
    },
    {
     "data": {
      "image/png": "[encoded data removed]",
      "text/plain": [
       "<Figure size 432x288 with 1 Axes>"
      ]
     },
     "metadata": {
      "needs_background": "light"
     },
     "output_type": "display_data"
    },
    {
     "ename": "NameError",
     "evalue": "name 'ts' is not defined",
     "output_type": "error",
     "traceback": [
      "\u001b[0;31m---------------------------------------------------------------------------\u001b[0m",
      "\u001b[0;31mNameError\u001b[0m                                 Traceback (most recent call last)",
      "\u001b[0;32m<ipython-input-187-c63f0cf3f4a9>\u001b[0m in \u001b[0;36m<module>\u001b[0;34m\u001b[0m\n\u001b[1;32m    191\u001b[0m     \u001b[0mdraw_cluster\u001b[0m\u001b[0;34m(\u001b[0m\u001b[0mdatas\u001b[0m\u001b[0;34m,\u001b[0m \u001b[0mlabs\u001b[0m\u001b[0;34m,\u001b[0m \u001b[0mcenters\u001b[0m\u001b[0;34m,\u001b[0m \u001b[0mdic_colors\u001b[0m\u001b[0;34m,\u001b[0m \u001b[0mname\u001b[0m\u001b[0;34m=\u001b[0m\u001b[0mfile_name\u001b[0m \u001b[0;34m+\u001b[0m \u001b[0;34m\"_cluster-result.jpg\"\u001b[0m\u001b[0;34m)\u001b[0m\u001b[0;34m\u001b[0m\u001b[0;34m\u001b[0m\u001b[0m\n\u001b[1;32m    192\u001b[0m     \u001b[0munique_clusters\u001b[0m \u001b[0;34m=\u001b[0m \u001b[0mnp\u001b[0m\u001b[0;34m.\u001b[0m\u001b[0munique\u001b[0m\u001b[0;34m(\u001b[0m\u001b[0mlabs\u001b[0m\u001b[0;34m)\u001b[0m\u001b[0;34m\u001b[0m\u001b[0;34m\u001b[0m\u001b[0m\n\u001b[0;32m--> 193\u001b[0;31m     \u001b[0mcluster_counts\u001b[0m\u001b[0;34m[\u001b[0m\u001b[0mts\u001b[0m\u001b[0;34m.\u001b[0m\u001b[0mframe\u001b[0m\u001b[0;34m]\u001b[0m \u001b[0;34m=\u001b[0m \u001b[0munique_clusters\u001b[0m\u001b[0;34m\u001b[0m\u001b[0;34m\u001b[0m\u001b[0m\n\u001b[0m\u001b[1;32m    194\u001b[0m \u001b[0;34m\u001b[0m\u001b[0m\n\u001b[1;32m    195\u001b[0m     \u001b[0;31m# Calcular estadísticas de clusters\u001b[0m\u001b[0;34m\u001b[0m\u001b[0;34m\u001b[0m\u001b[0;34m\u001b[0m\u001b[0m\n",
      "\u001b[0;31mNameError\u001b[0m: name 'ts' is not defined"
     ]
    }
   ],
   "source": [
    "def getDistCut(distList,distPercent):\n",
    "    return max(distList) * distPercent / 100\n",
    " \n",
    "def getRho(n,distMatrix,distCut):\n",
    "    rho = np.zeros(n,dtype=float)\n",
    "    for i in range(n-1):\n",
    "        for j in range(i+1,n):\n",
    "            rho[i] = rho[i] + np.exp(-(distMatrix[i, j] / distCut) ** 2)\n",
    "            rho[j] = rho[j] + np.exp(-(distMatrix[i, j] / distCut) ** 2)\n",
    "    return rho\n",
    "\n",
    "\n",
    "def DPCA(n,distMatrix,rho,blockNum):\n",
    "    rhoOrdIndex = np.flipud(np.argsort(rho))\n",
    "    delta = np.zeros(n,dtype=float)\n",
    "    leader = np.ones(n,dtype=int) * int(-1)\n",
    "    maxdist = 0\n",
    "    for ele in range(n):\n",
    "        if distMatrix[rhoOrdIndex[0],ele] > maxdist:\n",
    "            maxdist = distMatrix[rhoOrdIndex[0],ele]\n",
    "    delta[rhoOrdIndex[0]] = maxdist\n",
    "    for i in range(1,n):\n",
    "        mindist = np.inf\n",
    "        minindex = -1\n",
    "        for j in range(i):\n",
    "            if distMatrix[rhoOrdIndex[i],rhoOrdIndex[j]] < mindist:\n",
    "                mindist = distMatrix[rhoOrdIndex[i],rhoOrdIndex[j]]\n",
    "                minindex = rhoOrdIndex[j]\n",
    "        delta[rhoOrdIndex[i]] = mindist\n",
    "        leader[rhoOrdIndex[i]] = minindex\n",
    "    gamma = delta * rho\n",
    "    gammaOrdIdx = np.flipud(np.argsort(gamma))\n",
    "    clusterIdx = np.ones(n,dtype=int) * (-1)\n",
    "    for k in range(blockNum):\n",
    "        clusterIdx[gammaOrdIdx[k]] = k\n",
    "    for i in range(n):\n",
    "        if clusterIdx[rhoOrdIndex[i]] == -1:\n",
    "            clusterIdx[rhoOrdIndex[i]] = clusterIdx[leader[rhoOrdIndex[i]]]\n",
    "    clusterSet = OrderedDict()\n",
    "    for k in range(blockNum):\n",
    "        clusterSet[k] = []\n",
    "    for i in range(n):\n",
    "        clusterSet[clusterIdx[i]].append(i)\n",
    "    return clusterSet\n",
    "\n",
    "\n",
    "def getDistanceMatrix(datas):\n",
    "    N,D = np.shape(datas)\n",
    "    dists = np.zeros([N,N])\n",
    "    \n",
    "    for i in range(N):\n",
    "        for j in range(N):\n",
    "            vi = datas[i,:]\n",
    "            vj = datas[j,:]\n",
    "            dists[i,j]= np.sqrt(np.dot((vi-vj),(vi-vj)))\n",
    "    return dists\n",
    "\n",
    "def select_dc(dists):    \n",
    "    N = np.shape(dists)[0]\n",
    "    tt = np.reshape(dists,N*N)\n",
    "    percent = 2.0\n",
    "    position = int(N * (N - 1) * percent / 100)\n",
    "    dc = np.sort(tt)[position  + N]\n",
    "    \n",
    "    return dc\n",
    "    \n",
    "def get_density(dists,dc,method=None):\n",
    "    N = np.shape(dists)[0]\n",
    "    rho = np.zeros(N)\n",
    "    \n",
    "    for i in range(N):\n",
    "        if method == None:\n",
    "            rho[i]  = np.where(dists[i,:]<dc)[0].shape[0]-1\n",
    "        else:\n",
    "            rho[i] = np.sum(np.exp(-(dists[i,:]/dc)**2))-1\n",
    "    return rho\n",
    "    \n",
    "\n",
    "def get_deltas(dists,rho):\n",
    "    N = np.shape(dists)[0]\n",
    "    deltas = np.zeros(N)\n",
    "    nearest_neiber = np.zeros(N)\n",
    "\n",
    "    index_rho = np.argsort(-rho)\n",
    "    for i,index in enumerate(index_rho):\n",
    "\n",
    "        if i==0:\n",
    "            continue\n",
    "  \n",
    "        index_higher_rho = index_rho[:i]\n",
    " \n",
    "        deltas[index] = np.min(dists[index,index_higher_rho])\n",
    "        \n",
    "        index_nn = np.argmin(dists[index,index_higher_rho])\n",
    "        nearest_neiber[index] = index_higher_rho[index_nn].astype(int)\n",
    "    \n",
    "    deltas[index_rho[0]] = np.max(deltas)   \n",
    "    return deltas,nearest_neiber\n",
    "        \n",
    "\n",
    "def find_centers_auto(rho,deltas):\n",
    "    rho_threshold = (np.min(rho) + np.max(rho))/ 2\n",
    "    delta_threshold  = (np.min(deltas) + np.max(deltas))/ 2\n",
    "    N = np.shape(rho)[0]\n",
    "    \n",
    "    centers = []\n",
    "    for i in range(N):\n",
    "        if rho[i]>=rho_threshold and deltas[i]>delta_threshold:\n",
    "            centers.append(i)\n",
    "    return np.array(centers)\n",
    "\n",
    "  \n",
    "def find_centers_K(rho,deltas,K):\n",
    "    rho_delta = rho*deltas\n",
    "    centers = np.argsort(-rho_delta)\n",
    "    return centers[:K]\n",
    "\n",
    "\n",
    "def cluster_PD(rho,centers,nearest_neiber):\n",
    "    K = np.shape(centers)[0]\n",
    "    if K == 0:\n",
    "        print(\"can not find centers\")\n",
    "        return\n",
    "    \n",
    "    N = np.shape(rho)[0]\n",
    "    labs = -1*np.ones(N).astype(int)\n",
    "    \n",
    "\n",
    "    for i, center in enumerate(centers):\n",
    "        labs[center] = i\n",
    "   \n",
    "\n",
    "    index_rho = np.argsort(-rho)\n",
    "    for i, index in enumerate(index_rho):\n",
    "\n",
    "        if labs[index] == -1:\n",
    "            labs[index] = labs[int(nearest_neiber[index])]\n",
    "    return labs\n",
    "        \n",
    "def draw_decision(rho,deltas,name=\"1.jpg\"):       \n",
    "    plt.cla()\n",
    "    for i in range(np.shape(datas)[0]):\n",
    "        plt.scatter(rho[i],deltas[i],s=16.,color=(0,0,0))\n",
    "        plt.annotate(str(i), xy = (rho[i], deltas[i]),xytext = (rho[i], deltas[i]))\n",
    "        plt.xlabel(\"rho\")\n",
    "        plt.ylabel(\"deltas\")\n",
    "    plt.savefig(name)\n",
    "    plt.show()\n",
    "\n",
    "def draw_cluster(datas,labs,centers, dic_colors, name=\"1.jpg\"):     \n",
    "    plt.cla()\n",
    "    K = np.shape(centers)[0]\n",
    "    \n",
    "    for k in range(K):\n",
    "        sub_index = np.where(labs == k)\n",
    "        sub_datas = datas[sub_index]\n",
    "        plt.scatter(sub_datas[:,0],sub_datas[:,1],s=16.,color=dic_colors[k])\n",
    "        plt.scatter(datas[centers[k],0],datas[centers[k],1],color=\"k\",marker=\"+\",s = 200.)\n",
    "    plt.savefig(name)\n",
    "    plt.show()\n",
    "\n",
    "    \n",
    "        \n",
    "    \n",
    "if __name__== \"__main__\":\n",
    "    \n",
    "    dic_colors = {0:(.8,0,0),1:(0,.8,0),\n",
    "                  2:(0,0,.8),3:(.8,.8,0),\n",
    "                  4:(.8,0,.8),5:(0,.8,.8),\n",
    "                  7:(0,0,0)}\n",
    "    file_name = \"DPCA\" \n",
    "     # Cargar el archivo PDB\n",
    "    u = mda.Universe('traj.pdb')  # Cambia el nombre del archivo si es necesario\n",
    "    # Extraer las coordenadas de los átomos (puedes ajustar el selection)\n",
    "    atoms = u.atoms  # Obtiene todos los átomos\n",
    "    datas = atoms.positions  # Obtiene las posiciones en 3D (Nx3)\n",
    "\n",
    "    # Si necesitas trabajar en 2D, puedes reducir la dimensionalidad o seleccionar solo 2 columnas\n",
    "    datas = datas[:, :2]  # Selecciona solo las primeras dos dimensiones (X, Y)\n",
    "\n",
    "    # Ahora continúa con el clustering\n",
    "    dists = getDistanceMatrix(datas)\n",
    "    dc = select_dc(dists)\n",
    "    print(\"number\", dc)\n",
    "    rho = get_density(dists, dc, method=\"Gaussion\")  # puedes usar otro método si lo deseas\n",
    "    deltas, nearest_neiber = get_deltas(dists, rho)\n",
    "    draw_decision(rho, deltas, name=file_name + \"_decision.jpg\")\n",
    "    centers = find_centers_K(rho, deltas, 3)\n",
    "    print(\"cluster-centers\", centers)\n",
    "    labs = cluster_PD(rho, centers, nearest_neiber)\n",
    "    draw_cluster(datas, labs, centers, dic_colors, name=file_name + \"_cluster-result.jpg\")\n",
    "    "
   ]
  },
  {
   "cell_type": "code",
   "execution_count": 199,
   "id": "67e611f0",
   "metadata": {},
   "outputs": [
    {
     "name": "stderr",
     "output_type": "stream",
     "text": [
      "/home/luisa/anaconda3/lib/python3.8/site-packages/MDAnalysis/topology/base.py:203: DeprecationWarning: `np.int` is a deprecated alias for the builtin `int`. To silence this warning, use `int` by itself. Doing this will not modify any behavior and is safe. When replacing `np.int`, you may wish to use e.g. `np.int64` or `np.int32` to specify the precision. If you wish to review your current use, check the release note link for additional information.\n",
      "Deprecated in NumPy 1.20; for more details and guidance: https://numpy.org/devdocs/release/1.20.0-notes.html#deprecations\n",
      "  residx = np.zeros_like(criteria[0], dtype=np.int)\n"
     ]
    },
    {
     "name": "stdout",
     "output_type": "stream",
     "text": [
      "distance cutoff 1.3087438901493442e-06\n"
     ]
    },
    {
     "data": {
      "image/png": "[encoded data removed]",
      "text/plain": [
       "<Figure size 432x288 with 1 Axes>"
      ]
     },
     "metadata": {
      "needs_background": "light"
     },
     "output_type": "display_data"
    },
    {
     "name": "stdout",
     "output_type": "stream",
     "text": [
      "cluster-centers [7 4 1]\n"
     ]
    },
    {
     "data": {
      "image/png": "[encoded data removed]",
      "text/plain": [
       "<Figure size 432x288 with 1 Axes>"
      ]
     },
     "metadata": {
      "needs_background": "light"
     },
     "output_type": "display_data"
    }
   ],
   "source": [
    "import numpy as np\n",
    "import MDAnalysis as mda\n",
    "import matplotlib.pyplot as plt\n",
    "from collections import OrderedDict\n",
    "\n",
    "def getDistCut(distList, distPercent):\n",
    "    return max(distList) * distPercent / 100\n",
    "\n",
    "def getRho(n, distMatrix, distCut):\n",
    "    rho = np.zeros(n, dtype=float)\n",
    "    for i in range(n-1):\n",
    "        for j in range(i+1, n):\n",
    "            rho[i] = rho[i] + np.exp(-(distMatrix[i, j] / distCut) ** 2)\n",
    "            rho[j] = rho[j] + np.exp(-(distMatrix[i, j] / distCut) ** 2)\n",
    "    return rho\n",
    "\n",
    "def DPCA(n, distMatrix, rho, blockNum):\n",
    "    rhoOrdIndex = np.flipud(np.argsort(rho))\n",
    "    delta = np.zeros(n, dtype=float)\n",
    "    leader = np.ones(n, dtype=int) * int(-1)\n",
    "    maxdist = 0\n",
    "    for ele in range(n):\n",
    "        if distMatrix[rhoOrdIndex[0], ele] > maxdist:\n",
    "            maxdist = distMatrix[rhoOrdIndex[0], ele]\n",
    "    delta[rhoOrdIndex[0]] = maxdist\n",
    "    for i in range(1, n):\n",
    "        mindist = np.inf\n",
    "        minindex = -1\n",
    "        for j in range(i):\n",
    "            if distMatrix[rhoOrdIndex[i], rhoOrdIndex[j]] < mindist:\n",
    "                mindist = distMatrix[rhoOrdIndex[i], rhoOrdIndex[j]]\n",
    "                minindex = rhoOrdIndex[j]\n",
    "        delta[rhoOrdIndex[i]] = mindist\n",
    "        leader[rhoOrdIndex[i]] = minindex\n",
    "    gamma = delta * rho\n",
    "    gammaOrdIdx = np.flipud(np.argsort(gamma))\n",
    "    clusterIdx = np.ones(n, dtype=int) * (-1)\n",
    "    for k in range(blockNum):\n",
    "        clusterIdx[gammaOrdIdx[k]] = k\n",
    "    for i in range(n):\n",
    "        if clusterIdx[rhoOrdIndex[i]] == -1:\n",
    "            clusterIdx[rhoOrdIndex[i]] = clusterIdx[leader[rhoOrdIndex[i]]]\n",
    "    clusterSet = OrderedDict()\n",
    "    for k in range(blockNum):\n",
    "        clusterSet[k] = []\n",
    "    for i in range(n):\n",
    "        clusterSet[clusterIdx[i]].append(i)\n",
    "    return clusterSet\n",
    "\n",
    "def getDistanceMatrixBetweenFrames(centers):\n",
    "    N = len(centers)\n",
    "    dist_matrix = np.zeros((N, N))\n",
    "    for i in range(N):\n",
    "        for j in range(i + 1, N):\n",
    "            dist_matrix[i, j] = np.linalg.norm(centers[i] - centers[j])\n",
    "            dist_matrix[j, i] = dist_matrix[i, j]  # La matriz es simétrica\n",
    "    return dist_matrix\n",
    "\n",
    "def select_dc(dists):    \n",
    "    N = np.shape(dists)[0]\n",
    "    tt = np.reshape(dists, N * N)\n",
    "    percent = 2.0\n",
    "    position = int(N * (N - 1) * percent / 100)\n",
    "    dc = np.sort(tt)[position + N]\n",
    "    \n",
    "    return dc\n",
    "\n",
    "def get_density(dists, dc, method=None):\n",
    "    N = np.shape(dists)[0]\n",
    "    rho = np.zeros(N)\n",
    "    \n",
    "    for i in range(N):\n",
    "        if method == None:\n",
    "            rho[i] = np.where(dists[i, :] < dc)[0].shape[0] - 1\n",
    "        else:\n",
    "            rho[i] = np.sum(np.exp(-(dists[i, :] / dc) ** 2)) - 1\n",
    "    return rho\n",
    "\n",
    "def get_deltas(dists, rho):\n",
    "    N = np.shape(dists)[0]\n",
    "    deltas = np.zeros(N)\n",
    "    nearest_neiber = np.zeros(N)\n",
    "\n",
    "    index_rho = np.argsort(-rho)\n",
    "    for i, index in enumerate(index_rho):\n",
    "        if i == 0:\n",
    "            continue\n",
    "  \n",
    "        index_higher_rho = index_rho[:i]\n",
    " \n",
    "        deltas[index] = np.min(dists[index, index_higher_rho])\n",
    "        \n",
    "        index_nn = np.argmin(dists[index, index_higher_rho])\n",
    "        nearest_neiber[index] = index_higher_rho[index_nn].astype(int)\n",
    "    \n",
    "    deltas[index_rho[0]] = np.max(deltas)   \n",
    "    return deltas, nearest_neiber\n",
    "        \n",
    "\n",
    "def find_centers_auto(rho, deltas):\n",
    "    rho_threshold = (np.min(rho) + np.max(rho)) / 2\n",
    "    delta_threshold = (np.min(deltas) + np.max(deltas)) / 2\n",
    "    N = np.shape(rho)[0]\n",
    "    \n",
    "    centers = []\n",
    "    for i in range(N):\n",
    "        if rho[i] >= rho_threshold and deltas[i] > delta_threshold:\n",
    "            centers.append(i)\n",
    "    return np.array(centers)\n",
    "\n",
    "def find_centers_K(rho, deltas, K):\n",
    "    rho_delta = rho * deltas\n",
    "    centers = np.argsort(-rho_delta)\n",
    "    return centers[:K]\n",
    "\n",
    "def cluster_PD(rho, centers, nearest_neiber):\n",
    "    K = np.shape(centers)[0]\n",
    "    if K == 0:\n",
    "        print(\"Cannot find centers\")\n",
    "        return\n",
    "    \n",
    "    N = np.shape(rho)[0]\n",
    "    labs = -1 * np.ones(N).astype(int)\n",
    "    \n",
    "    for i, center in enumerate(centers):\n",
    "        labs[center] = i\n",
    "    \n",
    "    index_rho = np.argsort(-rho)\n",
    "    for i, index in enumerate(index_rho):\n",
    "        if labs[index] == -1:\n",
    "            labs[index] = labs[int(nearest_neiber[index])]\n",
    "    return labs\n",
    "\n",
    "def draw_decision(rho, deltas, name=\"1.jpg\"):       \n",
    "    plt.cla()\n",
    "    for i in range(np.shape(datas)[0]):\n",
    "        plt.scatter(rho[i], deltas[i], s=16., color=(0, 0, 0))\n",
    "        plt.annotate(str(i), xy=(rho[i], deltas[i]), xytext=(rho[i], deltas[i]))\n",
    "        plt.xlabel(\"rho\")\n",
    "        plt.ylabel(\"deltas\")\n",
    "    plt.savefig(name)\n",
    "    plt.show()\n",
    "\n",
    "def draw_cluster(datas, labs, centers, dic_colors, name=\"1.jpg\"):     \n",
    "    plt.cla()\n",
    "    K = np.shape(centers)[0]\n",
    "    \n",
    "    for k in range(K):\n",
    "        sub_index = np.where(labs == k)\n",
    "        sub_datas = datas[sub_index]\n",
    "        plt.scatter(sub_datas[:, 0], sub_datas[:, 1], s=16., color=dic_colors[k])\n",
    "        plt.scatter(datas[centers[k], 0], datas[centers[k], 1], color=\"k\", marker=\"+\", s=200.)\n",
    "    plt.savefig(name)\n",
    "    plt.show()\n",
    "\n",
    "def getFrameCenters(datas):\n",
    "    n_frames = datas.shape[0]\n",
    "    centers = np.mean(datas, axis=1)  # Calcula el centro de masa de cada frame\n",
    "    return centers\n",
    "\n",
    "if __name__ == \"__main__\":\n",
    "    dic_colors = {0: (.8, 0, 0), 1: (0, .8, 0),\n",
    "                  2: (0, 0, .8), 3: (.8, .8, 0),\n",
    "                  4: (.8, 0, .8), 5: (0, .8, .8),\n",
    "                  7: (0, 0, 0)}\n",
    "    file_name = \"DPCA\" \n",
    "    \n",
    "    # Cargar el archivo PDB\n",
    "    u = mda.Universe('traj.pdb')  # Cambia el nombre del archivo si es necesario\n",
    "    \n",
    "    # Extraer las coordenadas de los átomos (puedes ajustar el selection)\n",
    "    atoms = u.atoms  # Obtiene todos los átomos\n",
    "    \n",
    "    # Extraer las posiciones para cada frame\n",
    "    frames = []\n",
    "    for ts in u.trajectory:  # Itera sobre todos los frames de la trayectoria\n",
    "        frames.append(u.atoms.positions[:, :2])  # Solo toma las primeras dos dimensiones (X, Y)\n",
    "    datas = np.array(frames)  # Esto tendrá la forma (num_frames, num_atoms, 2)\n",
    "    \n",
    "    # Calcular los centroides de cada frame\n",
    "    centers = getFrameCenters(datas)\n",
    "    \n",
    "    # Calcular la matriz de distancias entre los centroides\n",
    "    dist_matrix = getDistanceMatrixBetweenFrames(centers)\n",
    "    \n",
    "    # Seleccionar el corte de distancia\n",
    "    dc = select_dc(dist_matrix)\n",
    "    print(\"distance cutoff\", dc)\n",
    "    \n",
    "    # Calcular la densidad\n",
    "    rho = get_density(dist_matrix, dc, method=\"Gaussion\")\n",
    "    \n",
    "    # Calcular los deltas y los vecinos más cercanos\n",
    "    deltas, nearest_neiber = get_deltas(dist_matrix, rho)\n",
    "    \n",
    "    # Dibujar la decisión de clustering\n",
    "    draw_decision(rho, deltas, name=file_name + \"_decision.jpg\")\n",
    "    \n",
    "    # Encontrar los centros de los clusters\n",
    "    centers = find_centers_K(rho, deltas, 3)\n",
    "    print(\"cluster-centers\", centers)\n",
    "    \n",
    "    # Realizar el clustering basado en los centros\n",
    "    labs = cluster_PD(rho, centers, nearest_neiber)\n",
    "    \n",
    "    # Dibujar los resultados del clustering\n",
    "    draw_cluster(datas, labs, centers, dic_colors, name=file_name + \"_cluster-result.jpg\")\n"
   ]
  },
  {
   "cell_type": "code",
   "execution_count": 200,
   "id": "47bbb9ff",
   "metadata": {},
   "outputs": [
    {
     "name": "stdout",
     "output_type": "stream",
     "text": [
      "Hay 3 clusters.\n",
      "Cluster 0: 10 frames -> Frames: [ 2  3  7 12 13 14 15 17 19 20]\n",
      "Cluster 1: 6 frames -> Frames: [ 4  5 18 22 24 25]\n",
      "Cluster 2: 10 frames -> Frames: [ 0  1  6  8  9 10 11 16 21 23]\n"
     ]
    }
   ],
   "source": [
    "def get_cluster_info(labs):\n",
    "    # Obtener los índices de los clusters únicos\n",
    "    unique_clusters = np.unique(labs)\n",
    "    \n",
    "    # Crear un diccionario para almacenar los frames de cada cluster\n",
    "    cluster_info = {}\n",
    "    for cluster in unique_clusters:\n",
    "        cluster_info[cluster] = np.where(labs == cluster)[0]  # Obtener los frames que pertenecen a este cluster\n",
    "    \n",
    "    # El número de clusters es el número de valores únicos en 'labs'\n",
    "    num_clusters = len(unique_clusters)\n",
    "    \n",
    "    return num_clusters, cluster_info\n",
    "\n",
    "# Obtener el número de clusters y los frames en cada cluster\n",
    "num_clusters, cluster_info = get_cluster_info(labs)\n",
    "\n",
    "# Imprimir los resultados\n",
    "print(f\"Hay {num_clusters} clusters.\")\n",
    "for cluster, frames in cluster_info.items():\n",
    "    print(f\"Cluster {cluster}: {len(frames)} frames -> Frames: {frames}\")\n"
   ]
  },
  {
   "cell_type": "code",
   "execution_count": 28,
   "id": "bf333493",
   "metadata": {},
   "outputs": [
    {
     "data": {
      "image/png": "[encoded data removed]",
      "text/plain": [
       "<Figure size 864x432 with 1 Axes>"
      ]
     },
     "metadata": {
      "needs_background": "light"
     },
     "output_type": "display_data"
    }
   ],
   "source": [
    "import matplotlib.pyplot as plt\n",
    "\n",
    "# Crear un arreglo para los clústeres según el método dpeaks\n",
    "cluster_labels_dpeaks = [-1] * 26  # Asumiendo un total de 26 frames (0 al 25)\n",
    "\n",
    "# Asignar los valores a cada clúster\n",
    "for frame in [2, 3, 7, 12, 13, 14, 15, 17, 19, 20]:\n",
    "    cluster_labels_dpeaks[frame] = 0\n",
    "for frame in [4, 5, 18, 22, 24, 25]:\n",
    "    cluster_labels_dpeaks[frame] = 1\n",
    "for frame in [0, 1, 6, 8, 9, 10, 11, 16, 21, 23]:\n",
    "    cluster_labels_dpeaks[frame] = 2\n",
    "\n",
    "# Crear la gráfica\n",
    "plt.figure(figsize=(12, 6))\n",
    "plt.plot(cluster_labels_dpeaks, label='DPeaks Cluster', marker='o', linestyle='-', color='g', alpha=0.7)\n",
    "# Graficar cluster_labels\n",
    "plt.plot(cluster_labels, label='KMeans Cluster', marker='o', linestyle='-', color='b', alpha=0.7)\n",
    "\n",
    "# Graficar cluster_labels2\n",
    "plt.plot(cluster_labels2, label='Spectral Clustering', marker='x', linestyle='--', color='r', alpha=0.7)\n",
    "\n",
    "# Etiquetas y título\n",
    "plt.xlabel(\"Frame\")\n",
    "plt.ylabel(\"Cluster ID\")\n",
    "plt.title(\"Cluster Assignment over Frames\")\n",
    "plt.legend()\n",
    "plt.show()"
   ]
  },
  {
   "cell_type": "code",
   "execution_count": 3,
   "id": "d70382eb",
   "metadata": {},
   "outputs": [],
   "source": [
    "import mdtraj as md\n",
    "import numpy as np"
   ]
  },
  {
   "cell_type": "code",
   "execution_count": 4,
   "id": "f7bc90e5",
   "metadata": {},
   "outputs": [],
   "source": [
    "traj = md.load(\"traj.pdb\")"
   ]
  },
  {
   "cell_type": "code",
   "execution_count": 5,
   "id": "1968322f",
   "metadata": {},
   "outputs": [],
   "source": [
    "atom_indices = list(range(0, 40))"
   ]
  },
  {
   "cell_type": "code",
   "execution_count": 6,
   "id": "3269470c",
   "metadata": {},
   "outputs": [
    {
     "name": "stderr",
     "output_type": "stream",
     "text": [
      "<ipython-input-6-209f7e342122>:15: DeprecationWarning: `np.int` is a deprecated alias for the builtin `int`. To silence this warning, use `int` by itself. Doing this will not modify any behavior and is safe. When replacing `np.int`, you may wish to use e.g. `np.int64` or `np.int32` to specify the precision. If you wish to review your current use, check the release note link for additional information.\n",
      "Deprecated in NumPy 1.20; for more details and guidance: https://numpy.org/devdocs/release/1.20.0-notes.html#deprecations\n",
      "  rmsd_ij = md.rmsd(traj, traj, frame=i, atom_indices=atom_indices)[j]\n"
     ]
    },
    {
     "name": "stdout",
     "output_type": "stream",
     "text": [
      "Matriz de distancias RMSD:\n",
      "[[0.00000000e+00 2.12653965e-01 1.94151700e-01 1.81933612e-01\n",
      "  1.70212343e-01 1.86496660e-01 2.18047187e-01 2.16062546e-01\n",
      "  2.14973658e-01 2.31498510e-01 2.97330678e-01 1.98018193e-01\n",
      "  2.00341687e-01 2.27016345e-01 2.50100106e-01 2.46244550e-01\n",
      "  1.81582794e-01 2.71609455e-01 1.95094913e-01 1.96561068e-01\n",
      "  1.44374698e-01 1.82527348e-01 1.35537416e-01 2.76517659e-01\n",
      "  2.34649241e-01 2.36528590e-01]\n",
      " [2.12653965e-01 0.00000000e+00 2.99268842e-01 2.68287361e-01\n",
      "  3.11049789e-01 3.29629302e-01 1.98276639e-01 2.39761412e-01\n",
      "  3.32836062e-01 2.00193226e-01 3.93619150e-01 3.25479388e-01\n",
      "  3.27895671e-01 3.56173247e-01 3.68971974e-01 3.50552410e-01\n",
      "  3.07760954e-01 3.68818521e-01 1.88554078e-01 2.72709161e-01\n",
      "  2.92657703e-01 2.35574529e-01 1.87316865e-01 3.71678650e-01\n",
      "  2.64382184e-01 3.46446246e-01]\n",
      " [1.94151700e-01 2.99268842e-01 0.00000000e+00 1.87559813e-01\n",
      "  2.16689512e-01 1.67538822e-01 2.43577182e-01 2.30885640e-01\n",
      "  2.45496482e-01 2.78110445e-01 2.45368779e-01 2.00188518e-01\n",
      "  1.79070115e-01 2.57358253e-01 2.57901222e-01 2.40676984e-01\n",
      "  1.80576801e-01 2.54626751e-01 2.39816487e-01 1.84060663e-01\n",
      "  2.14032233e-01 2.10418180e-01 1.97792187e-01 2.22896725e-01\n",
      "  2.45571151e-01 2.32699707e-01]\n",
      " [1.81933612e-01 2.68287361e-01 1.87559813e-01 0.00000000e+00\n",
      "  2.47356072e-01 2.29816616e-01 2.47394860e-01 2.39649609e-01\n",
      "  2.46693403e-01 2.82936513e-01 2.84422129e-01 2.37393081e-01\n",
      "  2.42747888e-01 2.62247711e-01 2.66322136e-01 2.59955466e-01\n",
      "  2.55383611e-01 2.65932232e-01 1.74226105e-01 1.68903038e-01\n",
      "  2.24499807e-01 2.06111789e-01 2.03166604e-01 2.43467972e-01\n",
      "  2.22380728e-01 2.33982876e-01]\n",
      " [1.70212343e-01 3.11049789e-01 2.16689512e-01 2.47356072e-01\n",
      "  2.18366011e-04 1.81513786e-01 3.21903288e-01 2.12744981e-01\n",
      "  1.63236439e-01 2.65921265e-01 2.27555409e-01 2.11888745e-01\n",
      "  1.98716551e-01 1.49814531e-01 1.69470027e-01 2.10637882e-01\n",
      "  1.66564897e-01 1.91916406e-01 2.80248642e-01 2.36968085e-01\n",
      "  1.15892090e-01 2.14380220e-01 2.18150049e-01 2.30403259e-01\n",
      "  2.54407406e-01 1.77414015e-01]\n",
      " [1.86496660e-01 3.29629302e-01 1.67538822e-01 2.29816616e-01\n",
      "  1.81513786e-01 0.00000000e+00 2.94813454e-01 2.35903174e-01\n",
      "  2.05688030e-01 3.03382576e-01 2.12181211e-01 1.53263539e-01\n",
      "  1.46323472e-01 2.08554402e-01 2.15889782e-01 2.11904049e-01\n",
      "  1.59722909e-01 1.95325062e-01 2.70828277e-01 2.25740671e-01\n",
      "  1.78048268e-01 2.55747914e-01 2.04128891e-01 2.23731995e-01\n",
      "  2.73259640e-01 2.33934164e-01]\n",
      " [2.18047187e-01 1.98276639e-01 2.43577182e-01 2.47394860e-01\n",
      "  3.21903288e-01 2.94813454e-01 0.00000000e+00 2.78717428e-01\n",
      "  3.35082084e-01 2.44730771e-01 3.96786243e-01 2.94831723e-01\n",
      "  3.07959557e-01 3.64572227e-01 3.73052835e-01 3.37692171e-01\n",
      "  3.10850501e-01 3.68772566e-01 1.91704094e-01 2.39416048e-01\n",
      "  3.01716536e-01 2.28629574e-01 2.10715622e-01 3.58335465e-01\n",
      "  2.56094366e-01 3.41558695e-01]\n",
      " [2.16062546e-01 2.39761412e-01 2.30885640e-01 2.39649609e-01\n",
      "  2.12744981e-01 2.35903174e-01 2.78717428e-01 1.54408088e-04\n",
      "  2.38319516e-01 1.82947591e-01 2.56254435e-01 2.47656524e-01\n",
      "  2.59762317e-01 2.33859599e-01 2.64578104e-01 2.47157425e-01\n",
      "  2.20683247e-01 2.42589265e-01 1.88373119e-01 2.22430423e-01\n",
      "  2.25183219e-01 2.04513624e-01 1.72725305e-01 2.57218391e-01\n",
      "  2.63957500e-01 2.43337259e-01]\n",
      " [2.14973658e-01 3.32836062e-01 2.45496482e-01 2.46693403e-01\n",
      "  1.63236439e-01 2.05688030e-01 3.35082084e-01 2.38319516e-01\n",
      "  0.00000000e+00 2.61687130e-01 2.19829619e-01 1.60086423e-01\n",
      "  2.15456665e-01 1.20593213e-01 2.11877272e-01 2.25126356e-01\n",
      "  1.81838721e-01 2.23412871e-01 2.89844245e-01 2.31063634e-01\n",
      "  1.61947221e-01 2.33287022e-01 2.46543542e-01 2.20483616e-01\n",
      "  2.09977746e-01 1.26948431e-01]\n",
      " [2.31498510e-01 2.00193226e-01 2.78110445e-01 2.82936513e-01\n",
      "  2.65921265e-01 3.03382576e-01 2.44730771e-01 1.82947591e-01\n",
      "  2.61687130e-01 0.00000000e+00 3.65640402e-01 2.71177173e-01\n",
      "  2.92405754e-01 2.94617981e-01 3.47104818e-01 3.44981223e-01\n",
      "  2.52519220e-01 3.26379389e-01 2.44261488e-01 2.65992880e-01\n",
      "  2.61392117e-01 1.82076856e-01 2.20166549e-01 3.38750869e-01\n",
      "  2.65779823e-01 2.74812400e-01]\n",
      " [2.97330678e-01 3.93619150e-01 2.45368779e-01 2.84422129e-01\n",
      "  2.27555409e-01 2.12181211e-01 3.96786243e-01 2.56254435e-01\n",
      "  2.19829619e-01 3.65640402e-01 0.00000000e+00 2.28269786e-01\n",
      "  2.05400944e-01 2.08689943e-01 1.43253759e-01 1.60477623e-01\n",
      "  2.36586154e-01 1.92791089e-01 3.23763341e-01 3.04573387e-01\n",
      "  2.36392483e-01 3.33908409e-01 2.83305675e-01 2.03301221e-01\n",
      "  3.04195434e-01 2.15368569e-01]\n",
      " [1.98018193e-01 3.25479388e-01 2.00188518e-01 2.37393081e-01\n",
      "  2.11888745e-01 1.53263539e-01 2.94831723e-01 2.47656524e-01\n",
      "  1.60086423e-01 2.71177173e-01 2.28269786e-01 0.00000000e+00\n",
      "  1.50774583e-01 1.98945642e-01 2.08819687e-01 2.08218262e-01\n",
      "  1.48686573e-01 1.88901111e-01 2.87890106e-01 2.53810823e-01\n",
      "  1.89756617e-01 2.57671237e-01 2.24488288e-01 1.97126880e-01\n",
      "  2.59392262e-01 1.99686676e-01]\n",
      " [2.00341687e-01 3.27895671e-01 1.79070115e-01 2.42747888e-01\n",
      "  1.98716551e-01 1.46323472e-01 3.07959557e-01 2.59762317e-01\n",
      "  2.15456665e-01 2.92405754e-01 2.05400944e-01 1.50774583e-01\n",
      "  2.18366011e-04 2.36219138e-01 2.18760356e-01 2.23019168e-01\n",
      "  1.36713177e-01 2.31557056e-01 2.96705961e-01 2.51709044e-01\n",
      "  1.85800344e-01 2.68656909e-01 2.40685955e-01 2.26952046e-01\n",
      "  2.66855150e-01 2.35554382e-01]\n",
      " [2.27016345e-01 3.56173247e-01 2.57358253e-01 2.62247711e-01\n",
      "  1.49814531e-01 2.08554402e-01 3.64572227e-01 2.33859599e-01\n",
      "  1.20593213e-01 2.94617981e-01 2.08689943e-01 1.98945642e-01\n",
      "  2.36219138e-01 0.00000000e+00 1.65585101e-01 1.87908620e-01\n",
      "  1.82459012e-01 1.87115341e-01 3.08451176e-01 2.43927106e-01\n",
      "  1.63600460e-01 2.63494581e-01 2.51214802e-01 1.74817443e-01\n",
      "  2.46967614e-01 1.18257038e-01]\n",
      " [2.50100106e-01 3.68971974e-01 2.57901222e-01 2.66322136e-01\n",
      "  1.69470027e-01 2.15889782e-01 3.73052835e-01 2.64578104e-01\n",
      "  2.11877272e-01 3.47104818e-01 1.43253759e-01 2.08819687e-01\n",
      "  2.18760356e-01 1.65585101e-01 3.08816176e-04 9.55944434e-02\n",
      "  2.25009516e-01 1.49030119e-01 3.10079992e-01 2.96873391e-01\n",
      "  2.18076929e-01 3.16682220e-01 2.77308375e-01 2.09272131e-01\n",
      "  3.01761180e-01 2.22770050e-01]\n",
      " [2.46244550e-01 3.50552410e-01 2.40676984e-01 2.59955466e-01\n",
      "  2.10637882e-01 2.11904049e-01 3.37692171e-01 2.47157425e-01\n",
      "  2.25126356e-01 3.44981223e-01 1.60477623e-01 2.08218262e-01\n",
      "  2.23019168e-01 1.87908620e-01 9.55944434e-02 0.00000000e+00\n",
      "  2.35366151e-01 1.62833557e-01 2.79326797e-01 2.61799663e-01\n",
      "  2.36782879e-01 3.07676971e-01 2.59706885e-01 1.99082986e-01\n",
      "  2.79068738e-01 2.29261547e-01]\n",
      " [1.81582794e-01 3.07760954e-01 1.80576801e-01 2.55383611e-01\n",
      "  1.66564897e-01 1.59722909e-01 3.10850501e-01 2.20683247e-01\n",
      "  1.81838721e-01 2.52519220e-01 2.36586154e-01 1.48686573e-01\n",
      "  1.36713177e-01 1.82459012e-01 2.25009516e-01 2.35366151e-01\n",
      "  3.08816176e-04 2.35850453e-01 2.90262759e-01 2.65183955e-01\n",
      "  1.81421682e-01 2.38157392e-01 2.13367507e-01 2.28886798e-01\n",
      "  2.56145149e-01 2.02990904e-01]\n",
      " [2.71609455e-01 3.68818521e-01 2.54626751e-01 2.65932232e-01\n",
      "  1.91916406e-01 1.95325062e-01 3.68772566e-01 2.42589265e-01\n",
      "  2.23412871e-01 3.26379389e-01 1.92791089e-01 1.88901111e-01\n",
      "  2.31557056e-01 1.87115341e-01 1.49030119e-01 1.62833557e-01\n",
      "  2.35850453e-01 0.00000000e+00 3.33067924e-01 2.86293656e-01\n",
      "  2.24398673e-01 3.09261292e-01 2.94952393e-01 1.54803336e-01\n",
      "  3.01261544e-01 2.27668956e-01]\n",
      " [1.95094913e-01 1.88554078e-01 2.39816487e-01 1.74226105e-01\n",
      "  2.80248642e-01 2.70828277e-01 1.91704094e-01 1.88373119e-01\n",
      "  2.89844245e-01 2.44261488e-01 3.23763341e-01 2.87890106e-01\n",
      "  2.96705961e-01 3.08451176e-01 3.10079992e-01 2.79326797e-01\n",
      "  2.90262759e-01 3.33067924e-01 0.00000000e+00 1.66542992e-01\n",
      "  2.65835881e-01 2.05716088e-01 1.59291461e-01 3.24955106e-01\n",
      "  2.24511802e-01 2.90242434e-01]\n",
      " [1.96561068e-01 2.72709161e-01 1.84060663e-01 1.68903038e-01\n",
      "  2.36968085e-01 2.25740671e-01 2.39416048e-01 2.22430423e-01\n",
      "  2.31063634e-01 2.65992880e-01 3.04573387e-01 2.53810823e-01\n",
      "  2.51709044e-01 2.43927106e-01 2.96873391e-01 2.61799663e-01\n",
      "  2.65183955e-01 2.86293656e-01 1.66542992e-01 1.54408088e-04\n",
      "  2.32889727e-01 1.57624796e-01 2.06892386e-01 2.81423986e-01\n",
      "  2.10451826e-01 2.22361699e-01]\n",
      " [1.44374698e-01 2.92657703e-01 2.14032233e-01 2.24499807e-01\n",
      "  1.15892090e-01 1.78048268e-01 3.01716536e-01 2.25183219e-01\n",
      "  1.61947221e-01 2.61392117e-01 2.36392483e-01 1.89756617e-01\n",
      "  1.85800344e-01 1.63600460e-01 2.18076929e-01 2.36782879e-01\n",
      "  1.81421682e-01 2.24398673e-01 2.65835881e-01 2.32889727e-01\n",
      "  0.00000000e+00 2.06342012e-01 1.88352868e-01 2.20998600e-01\n",
      "  2.54900217e-01 1.55417100e-01]\n",
      " [1.82527348e-01 2.35574529e-01 2.10418180e-01 2.06111789e-01\n",
      "  2.14380220e-01 2.55747914e-01 2.28629574e-01 2.04513624e-01\n",
      "  2.33287022e-01 1.82076856e-01 3.33908409e-01 2.57671237e-01\n",
      "  2.68656909e-01 2.63494581e-01 3.16682220e-01 3.07676971e-01\n",
      "  2.38157392e-01 3.09261292e-01 2.05716088e-01 1.57624796e-01\n",
      "  2.06342012e-01 0.00000000e+00 1.91951543e-01 3.10319006e-01\n",
      "  1.96258813e-01 2.14526579e-01]\n",
      " [1.35537416e-01 1.87316865e-01 1.97792187e-01 2.03166604e-01\n",
      "  2.18150049e-01 2.04128891e-01 2.10715622e-01 1.72725305e-01\n",
      "  2.46543542e-01 2.20166549e-01 2.83305675e-01 2.24488288e-01\n",
      "  2.40685955e-01 2.51214802e-01 2.77308375e-01 2.59706885e-01\n",
      "  2.13367507e-01 2.94952393e-01 1.59291461e-01 2.06892386e-01\n",
      "  1.88352868e-01 1.91951543e-01 0.00000000e+00 3.00848901e-01\n",
      "  2.55473316e-01 2.63781130e-01]\n",
      " [2.76517659e-01 3.71678650e-01 2.22896725e-01 2.43467972e-01\n",
      "  2.30403259e-01 2.23731995e-01 3.58335465e-01 2.57218391e-01\n",
      "  2.20483616e-01 3.38750869e-01 2.03301221e-01 1.97126880e-01\n",
      "  2.26952046e-01 1.74817443e-01 2.09272131e-01 1.99082986e-01\n",
      "  2.28886798e-01 1.54803336e-01 3.24955106e-01 2.81423986e-01\n",
      "  2.20998600e-01 3.10319006e-01 3.00848901e-01 0.00000000e+00\n",
      "  2.68813670e-01 1.72282338e-01]\n",
      " [2.34649241e-01 2.64382184e-01 2.45571151e-01 2.22380728e-01\n",
      "  2.54407406e-01 2.73259640e-01 2.56094366e-01 2.63957500e-01\n",
      "  2.09977746e-01 2.65779823e-01 3.04195434e-01 2.59392262e-01\n",
      "  2.66855150e-01 2.46967614e-01 3.01761180e-01 2.79068738e-01\n",
      "  2.56145149e-01 3.01261544e-01 2.24511802e-01 2.10451826e-01\n",
      "  2.54900217e-01 1.96258813e-01 2.55473316e-01 2.68813670e-01\n",
      "  0.00000000e+00 1.90286532e-01]\n",
      " [2.36528590e-01 3.46446246e-01 2.32699707e-01 2.33982876e-01\n",
      "  1.77414015e-01 2.33934164e-01 3.41558695e-01 2.43337259e-01\n",
      "  1.26948431e-01 2.74812400e-01 2.15368569e-01 1.99686676e-01\n",
      "  2.35554382e-01 1.18257038e-01 2.22770050e-01 2.29261547e-01\n",
      "  2.02990904e-01 2.27668956e-01 2.90242434e-01 2.22361699e-01\n",
      "  1.55417100e-01 2.14526579e-01 2.63781130e-01 1.72282338e-01\n",
      "  1.90286532e-01 0.00000000e+00]]\n"
     ]
    }
   ],
   "source": [
    "\n",
    "# Número de frames en la trayectoria\n",
    "n_frames = traj.n_frames\n",
    "\n",
    "# Crear matriz de distancias\n",
    "distance_matrix = np.zeros((n_frames, n_frames))\n",
    "\n",
    "# Calcular distancias RMSD entre cada par de frames\n",
    "for i in range(n_frames):\n",
    "    ref_coords = traj.atom_slice(atom_indices).xyz[i]\n",
    "    \n",
    "    for j in range(i, n_frames):  # Solo calcular la mitad superior (matriz simétrica)\n",
    "        target_coords = traj.atom_slice(atom_indices).xyz[j]\n",
    "        \n",
    "        # Calcular RMSD entre frame i y frame j\n",
    "        rmsd_ij = md.rmsd(traj, traj, frame=i, atom_indices=atom_indices)[j]\n",
    "        \n",
    "        distance_matrix[i, j] = rmsd_ij\n",
    "        distance_matrix[j, i] = rmsd_ij  # Reflejar la simetría\n",
    "\n",
    "# Imprimir o guardar la matriz de distancias\n",
    "print(\"Matriz de distancias RMSD:\")\n",
    "print(distance_matrix)"
   ]
  },
  {
   "cell_type": "code",
   "execution_count": 7,
   "id": "72749977",
   "metadata": {},
   "outputs": [],
   "source": [
    "from scipy.spatial.distance import pdist, squareform\n",
    "from scipy.cluster.hierarchy import linkage, fcluster\n",
    "from sklearn.cluster import DBSCAN"
   ]
  },
  {
   "cell_type": "code",
   "execution_count": 10,
   "id": "cf58271f",
   "metadata": {},
   "outputs": [
    {
     "name": "stdout",
     "output_type": "stream",
     "text": [
      "Agrupamiento Jerárquico - Etiquetas de Cluster:\n",
      "[1 1 1 1 1 1 1 1 1 1 1 1 1 1 1 1 1 1 1 1 1 1 1 1 1 1]\n",
      "Agrupamiento DBSCAN - Etiquetas de Cluster:\n",
      "[0 0 0 0 0 0 0 0 0 0 0 0 0 0 0 0 0 0 0 0 0 0 0 0 0 0]\n",
      "Medoids para agrupamiento jerárquico:\n",
      "{1: 20}\n",
      "Medoids para agrupamiento DBSCAN:\n",
      "{0: 20}\n"
     ]
    },
    {
     "name": "stderr",
     "output_type": "stream",
     "text": [
      "<ipython-input-10-3b8175ddf9cd>:5: DeprecationWarning: `np.int` is a deprecated alias for the builtin `int`. To silence this warning, use `int` by itself. Doing this will not modify any behavior and is safe. When replacing `np.int`, you may wish to use e.g. `np.int64` or `np.int32` to specify the precision. If you wish to review your current use, check the release note link for additional information.\n",
      "Deprecated in NumPy 1.20; for more details and guidance: https://numpy.org/devdocs/release/1.20.0-notes.html#deprecations\n",
      "  rmsd_values = md.rmsd(traj, traj, frame=i, atom_indices=atom_indices)\n"
     ]
    }
   ],
   "source": [
    "n_frames = traj.n_frames\n",
    "distance_matrix = np.zeros((n_frames, n_frames))\n",
    "\n",
    "for i in range(n_frames):\n",
    "    rmsd_values = md.rmsd(traj, traj, frame=i, atom_indices=atom_indices)\n",
    "    distance_matrix[i, :] = rmsd_values\n",
    "\n",
    "# Convertir matriz de distancias RMSD a formato de distancias de pares\n",
    "condensed_distances = squareform(distance_matrix, checks=False)\n",
    "\n",
    "### Agrupamiento jerárquico\n",
    "# Usamos 'average' para el método de enlace (otros métodos: 'single', 'complete', etc.)\n",
    "linkage_matrix = linkage(condensed_distances, method='average')\n",
    "\n",
    "# Definir el umbral para el agrupamiento jerárquico\n",
    "threshold = 0.5  # Ajusta según tu criterio o datos específicos\n",
    "hierarchical_clusters = fcluster(linkage_matrix, threshold, criterion='distance')\n",
    "\n",
    "# Imprimir etiquetas de agrupamiento jerárquico\n",
    "print(\"Agrupamiento Jerárquico - Etiquetas de Cluster:\")\n",
    "print(hierarchical_clusters)\n",
    "\n",
    "### Agrupamiento DBSCAN\n",
    "# Definir el parámetro epsilon y el número mínimo de muestras\n",
    "epsilon = 0.5  # Ajusta según tu criterio o datos específicos\n",
    "min_samples = 10\n",
    "dbscan = DBSCAN(eps=epsilon, min_samples=min_samples, metric='precomputed')\n",
    "dbscan_clusters = dbscan.fit_predict(distance_matrix)\n",
    "\n",
    "# Imprimir etiquetas de agrupamiento DBSCAN\n",
    "print(\"Agrupamiento DBSCAN - Etiquetas de Cluster:\")\n",
    "print(dbscan_clusters)\n",
    "\n",
    "### Identificación de la Conformación Representativa (Medoid)\n",
    "# Función para obtener el medoid de cada cluster\n",
    "def find_medoid(distance_matrix, labels):\n",
    "    unique_labels = np.unique(labels)\n",
    "    medoids = {}\n",
    "    for label in unique_labels:\n",
    "        if label == -1:  # Ignorar ruido de DBSCAN (etiqueta -1)\n",
    "            continue\n",
    "        indices = np.where(labels == label)[0]\n",
    "        # Calcular la suma de distancias dentro del grupo\n",
    "        cluster_distances = distance_matrix[np.ix_(indices, indices)]\n",
    "        medoid_index = indices[np.argmin(np.sum(cluster_distances, axis=0))]\n",
    "        medoids[label] = medoid_index\n",
    "    return medoids\n",
    "\n",
    "# Obtener el medoid para los clusters jerárquicos\n",
    "hierarchical_medoids = find_medoid(distance_matrix, hierarchical_clusters)\n",
    "print(\"Medoids para agrupamiento jerárquico:\")\n",
    "print(hierarchical_medoids)\n",
    "\n",
    "# Obtener el medoid para los clusters DBSCAN\n",
    "dbscan_medoids = find_medoid(distance_matrix, dbscan_clusters)\n",
    "print(\"Medoids para agrupamiento DBSCAN:\")\n",
    "print(dbscan_medoids)"
   ]
  },
  {
   "cell_type": "markdown",
   "id": "c134fb77",
   "metadata": {},
   "source": [
    "Sirve Algoritmo propio "
   ]
  },
  {
   "cell_type": "code",
   "execution_count": 13,
   "id": "45a30ee2",
   "metadata": {},
   "outputs": [
    {
     "data": {
      "image/png": "[encoded data removed]",
      "text/plain": [
       "<Figure size 432x288 with 2 Axes>"
      ]
     },
     "metadata": {
      "needs_background": "light"
     },
     "output_type": "display_data"
    },
    {
     "name": "stdout",
     "output_type": "stream",
     "text": [
      "Etiquetas de Cluster - Agrupamiento Jerárquico: [1 1 1 2 2 2 2 2 2 2 2 2 2 2 2 2 2 2 2 2 2 2 2 2 2 2]\n",
      "Etiquetas de Cluster - DBSCAN: [-1 -1 -1 -1 -1 -1 -1 -1 -1 -1 -1 -1 -1 -1 -1 -1 -1 -1 -1 -1 -1 -1 -1 -1\n",
      " -1 -1]\n",
      "Medoids para agrupamiento jerárquico: {1: 1, 2: 13}\n",
      "Medoids para agrupamiento DBSCAN: {}\n"
     ]
    },
    {
     "name": "stderr",
     "output_type": "stream",
     "text": [
      "/home/luisa/anaconda3/lib/python3.8/site-packages/seaborn/matrix.py:619: ClusterWarning: scipy.cluster: The symmetric non-negative hollow observation matrix looks suspiciously like an uncondensed distance matrix\n",
      "  linkage = hierarchy.linkage(self.array, method=self.method,\n"
     ]
    },
    {
     "data": {
      "image/png": "[encoded data removed]",
      "text/plain": [
       "<Figure size 720x504 with 1 Axes>"
      ]
     },
     "metadata": {
      "needs_background": "light"
     },
     "output_type": "display_data"
    },
    {
     "data": {
      "image/png": "[encoded data removed]",
      "text/plain": [
       "<Figure size 720x720 with 4 Axes>"
      ]
     },
     "metadata": {
      "needs_background": "light"
     },
     "output_type": "display_data"
    }
   ],
   "source": [
    "import mdtraj as md\n",
    "import numpy as np\n",
    "from scipy.spatial.distance import squareform\n",
    "from scipy.cluster.hierarchy import linkage, fcluster\n",
    "from sklearn.cluster import DBSCAN\n",
    "import matplotlib.pyplot as plt\n",
    "import seaborn as sns\n",
    "\n",
    "# Cargar la trayectoria\n",
    "traj = md.load('traj.pdb')  # Asegúrate de que el archivo esté en formato PDB o compatible con MDTraj\n",
    "\n",
    "# Calcular la matriz de distancias usando RMSD entre todas las conformaciones\n",
    "num_frames = traj.n_frames\n",
    "distance_matrix = np.zeros((num_frames, num_frames))\n",
    "\n",
    "for i in range(num_frames):\n",
    "    rmsd_values = md.rmsd(traj, traj, frame=i)\n",
    "    distance_matrix[i, :] = rmsd_values\n",
    "    distance_matrix[:, i] = rmsd_values  # Simetría en la matriz de distancias\n",
    "\n",
    "# Visualización de la matriz de distancias\n",
    "sns.heatmap(distance_matrix, cmap='viridis')\n",
    "plt.title(\"Matriz de Distancias (RMSD)\")\n",
    "plt.show()\n",
    "\n",
    "# Clustering jerárquico\n",
    "threshold = 0.3  # Ajustar según los resultados observados\n",
    "linkage_matrix = linkage(squareform(distance_matrix), method='average')\n",
    "labels_hierarchical = fcluster(linkage_matrix, threshold, criterion='distance')\n",
    "\n",
    "# Imprimir etiquetas de cluster\n",
    "print(\"Etiquetas de Cluster - Agrupamiento Jerárquico:\", labels_hierarchical)\n",
    "\n",
    "# DBSCAN con eps ajustado\n",
    "eps_value = 0.05  # Ajustar eps según los resultados\n",
    "dbscan_model = DBSCAN(eps=eps_value, min_samples=2, metric='precomputed')\n",
    "labels_dbscan = dbscan_model.fit_predict(distance_matrix)\n",
    "\n",
    "# Imprimir etiquetas de cluster DBSCAN\n",
    "print(\"Etiquetas de Cluster - DBSCAN:\", labels_dbscan)\n",
    "\n",
    "# Encontrar la conformación representativa (medoid) para cada cluster en agrupamiento jerárquico\n",
    "unique_clusters = np.unique(labels_hierarchical)\n",
    "medoids_hierarchical = {}\n",
    "for cluster in unique_clusters:\n",
    "    indices = np.where(labels_hierarchical == cluster)[0]\n",
    "    sub_matrix = distance_matrix[np.ix_(indices, indices)]\n",
    "    medoid_index = indices[np.argmin(sub_matrix.sum(axis=0))]  # Índice del medoid\n",
    "    medoids_hierarchical[cluster] = medoid_index\n",
    "\n",
    "print(\"Medoids para agrupamiento jerárquico:\", medoids_hierarchical)\n",
    "\n",
    "# Encontrar la conformación representativa (medoid) para cada cluster en DBSCAN\n",
    "unique_clusters_dbscan = np.unique(labels_dbscan)\n",
    "medoids_dbscan = {}\n",
    "for cluster in unique_clusters_dbscan:\n",
    "    if cluster != -1:  # Ignorar puntos de ruido\n",
    "        indices = np.where(labels_dbscan == cluster)[0]\n",
    "        sub_matrix = distance_matrix[np.ix_(indices, indices)]\n",
    "        medoid_index = indices[np.argmin(sub_matrix.sum(axis=0))]\n",
    "        medoids_dbscan[cluster] = medoid_index\n",
    "\n",
    "print(\"Medoids para agrupamiento DBSCAN:\", medoids_dbscan)\n",
    "\n",
    "# Visualizar dendograma de agrupamiento jerárquico\n",
    "plt.figure(figsize=(10, 7))\n",
    "plt.title(\"Dendograma de Clustering Jerárquico\")\n",
    "sns.clustermap(distance_matrix, row_cluster=True, col_cluster=True, cmap=\"viridis\", method='average')\n",
    "plt.show()\n"
   ]
  },
  {
   "cell_type": "code",
   "execution_count": 17,
   "id": "d627f930",
   "metadata": {},
   "outputs": [
    {
     "data": {
      "image/png": "[encoded data removed]",
      "text/plain": [
       "<Figure size 432x288 with 2 Axes>"
      ]
     },
     "metadata": {
      "needs_background": "light"
     },
     "output_type": "display_data"
    },
    {
     "name": "stdout",
     "output_type": "stream",
     "text": [
      "Etiquetas de Cluster - K-means: [3 3 3 1 1 1 2 2 2 2 2 4 4 4 4 4 0 0 0 0 0 0 0 0 0 0]\n",
      "Etiquetas de Cluster - Clustering Espectral: [4 3 4 1 4 2 4 1 4 2 1 4 1 4 4 1 4 4 4 1 2 4 4 1 0 4]\n"
     ]
    },
    {
     "data": {
      "image/png": "[encoded data removed]",
      "text/plain": [
       "<Figure size 720x360 with 2 Axes>"
      ]
     },
     "metadata": {
      "needs_background": "light"
     },
     "output_type": "display_data"
    },
    {
     "name": "stdout",
     "output_type": "stream",
     "text": [
      "Medoids para agrupamiento K-means: {0: 19, 1: 4, 2: 9, 3: 1, 4: 13}\n",
      "Medoids para agrupamiento Clustering Espectral: {0: 24, 1: 12, 2: 9, 3: 1, 4: 13}\n"
     ]
    }
   ],
   "source": [
    "import mdtraj as md\n",
    "import numpy as np\n",
    "from sklearn.cluster import KMeans, SpectralClustering\n",
    "import matplotlib.pyplot as plt\n",
    "import seaborn as sns\n",
    "\n",
    "# Cargar la trayectoria\n",
    "traj = md.load('traj.pdb')  # Asegúrate de que el archivo esté en formato PDB o compatible con MDTraj\n",
    "\n",
    "# Calcular la matriz de distancias usando RMSD entre todas las conformaciones\n",
    "num_frames = traj.n_frames\n",
    "distance_matrix = np.zeros((num_frames, num_frames))\n",
    "\n",
    "for i in range(num_frames):\n",
    "    rmsd_values = md.rmsd(traj, traj, frame=i)\n",
    "    distance_matrix[i, :] = rmsd_values\n",
    "    distance_matrix[:, i] = rmsd_values  # Simetría en la matriz de distancias\n",
    "\n",
    "# Visualización de la matriz de distancias\n",
    "sns.heatmap(distance_matrix, cmap='viridis')\n",
    "plt.title(\"Matriz de Distancias (RMSD)\")\n",
    "plt.show()\n",
    "\n",
    "# Clustering con K-means\n",
    "num_clusters = 5  # Ajusta según el análisis de la matriz de distancias o dendrogramas previos\n",
    "kmeans = KMeans(n_clusters=num_clusters, random_state=0)\n",
    "labels_kmeans = kmeans.fit_predict(distance_matrix)\n",
    "\n",
    "# Imprimir etiquetas de cluster K-means\n",
    "print(\"Etiquetas de Cluster - K-means:\", labels_kmeans)\n",
    "\n",
    "# Clustering espectral (Spectral Clustering)\n",
    "spectral = SpectralClustering(n_clusters=num_clusters, affinity='precomputed', random_state=0)\n",
    "labels_spectral = spectral.fit_predict(distance_matrix)\n",
    "\n",
    "# Imprimir etiquetas de cluster Spectral Clustering\n",
    "print(\"Etiquetas de Cluster - Clustering Espectral:\", labels_spectral)\n",
    "\n",
    "# Visualización de los resultados de clustering\n",
    "plt.figure(figsize=(10, 5))\n",
    "plt.subplot(1, 2, 1)\n",
    "sns.scatterplot(x=np.arange(num_frames), y=labels_kmeans, palette=\"viridis\", marker=\"o\")\n",
    "plt.title(\"Etiquetas K-means\")\n",
    "plt.xlabel(\"Conformación\")\n",
    "plt.ylabel(\"Cluster\")\n",
    "\n",
    "plt.subplot(1, 2, 2)\n",
    "sns.scatterplot(x=np.arange(num_frames), y=labels_spectral, palette=\"viridis\", marker=\"o\")\n",
    "plt.title(\"Etiquetas Clustering Espectral\")\n",
    "plt.xlabel(\"Conformación\")\n",
    "plt.ylabel(\"Cluster\")\n",
    "plt.tight_layout()\n",
    "plt.show()\n",
    "\n",
    "# Encontrar la conformación representativa (medoid) para cada cluster en K-means\n",
    "unique_clusters_kmeans = np.unique(labels_kmeans)\n",
    "medoids_kmeans = {}\n",
    "for cluster in unique_clusters_kmeans:\n",
    "    indices = np.where(labels_kmeans == cluster)[0]\n",
    "    sub_matrix = distance_matrix[np.ix_(indices, indices)]\n",
    "    medoid_index = indices[np.argmin(sub_matrix.sum(axis=0))]\n",
    "    medoids_kmeans[cluster] = medoid_index\n",
    "\n",
    "print(\"Medoids para agrupamiento K-means:\", medoids_kmeans)\n",
    "\n",
    "# Encontrar la conformación representativa (medoid) para cada cluster en Spectral Clustering\n",
    "unique_clusters_spectral = np.unique(labels_spectral)\n",
    "medoids_spectral = {}\n",
    "for cluster in unique_clusters_spectral:\n",
    "    indices = np.where(labels_spectral == cluster)[0]\n",
    "    sub_matrix = distance_matrix[np.ix_(indices, indices)]\n",
    "    medoid_index = indices[np.argmin(sub_matrix.sum(axis=0))]\n",
    "    medoids_spectral[cluster] = medoid_index\n",
    "\n",
    "print(\"Medoids para agrupamiento Clustering Espectral:\", medoids_spectral)\n"
   ]
  },
  {
   "cell_type": "code",
   "execution_count": 26,
   "id": "65c29a71",
   "metadata": {},
   "outputs": [
    {
     "name": "stdout",
     "output_type": "stream",
     "text": [
      "\n",
      "Conformaciones para cada cluster (K-means):\n",
      "Cluster 0: [16 17 18 19 20 21 22 23 24 25]\n",
      "Cluster 1: [3 4 5]\n",
      "Cluster 2: [ 6  7  8  9 10]\n",
      "Cluster 3: [0 1 2]\n",
      "Cluster 4: [11 12 13 14 15]\n",
      "\n",
      "Conformaciones para cada cluster (Clustering Espectral):\n",
      "Cluster 0: [24]\n",
      "Cluster 1: [ 3  7 10 12 15 19 23]\n",
      "Cluster 2: [ 5  9 20]\n",
      "Cluster 3: [1]\n",
      "Cluster 4: [ 0  2  4  6  8 11 13 14 16 17 18 21 22 25]\n"
     ]
    }
   ],
   "source": [
    "# Imprimir las conformaciones que pertenecen a cada cluster\n",
    "def print_conformations_for_clusters(labels, method_name):\n",
    "    print(f\"\\nConformaciones para cada cluster ({method_name}):\")\n",
    "    unique_clusters = np.unique(labels)\n",
    "    for cluster in unique_clusters:\n",
    "        conformations_in_cluster = np.where(labels == cluster)[0]\n",
    "        print(f\"Cluster {cluster}: {conformations_in_cluster}\")\n",
    "\n",
    "# Llamar a la función para imprimir las conformaciones de los clusters\n",
    "print_conformations_for_clusters(labels_kmeans, \"K-means\")\n",
    "print_conformations_for_clusters(labels_spectral, \"Clustering Espectral\")\n"
   ]
  },
  {
   "cell_type": "code",
   "execution_count": 32,
   "id": "e19a0bde",
   "metadata": {},
   "outputs": [
    {
     "data": {
      "image/png": "[encoded data removed]",
      "text/plain": [
       "<Figure size 720x360 with 1 Axes>"
      ]
     },
     "metadata": {
      "needs_background": "light"
     },
     "output_type": "display_data"
    }
   ],
   "source": [
    "import numpy as np\n",
    "import seaborn as sns\n",
    "import matplotlib.pyplot as plt\n",
    "\n",
    "# Definir los frames de cada cluster\n",
    "cluster_0 = [9, 10, 11, 12, 14, 15, 16, 17]\n",
    "cluster_1 = [7, 20, 21, 23, 24]\n",
    "cluster_2 = [13, 18, 19, 22, 25]\n",
    "cluster_3 = [4, 5, 6, 8]\n",
    "cluster_4 = [0, 1, 2, 3, 4]\n",
    "\n",
    "# Crear un array de etiquetas (clusters) para cada frame\n",
    "num_frames = 26  # Total de frames\n",
    "labels_kmeans = np.zeros(num_frames)  # Inicializa las etiquetas a 0\n",
    "\n",
    "# Asignar las etiquetas de los clusters a cada frame\n",
    "for i in range(num_frames):\n",
    "    if i in cluster_0:\n",
    "        labels_kmeans[i] = 0\n",
    "    elif i in cluster_1:\n",
    "        labels_kmeans[i] = 1\n",
    "    elif i in cluster_2:\n",
    "        labels_kmeans[i] = 2\n",
    "    elif i in cluster_3:\n",
    "        labels_kmeans[i] = 3\n",
    "    elif i in cluster_4:\n",
    "        labels_kmeans[i] = 4\n",
    "\n",
    "# Crear la gráfica\n",
    "plt.figure(figsize=(10, 5))\n",
    "plt.subplot(1, 2, 1)\n",
    "sns.scatterplot(x=np.arange(num_frames), y=labels_kmeans, palette=\"viridis\", marker=\"o\")\n",
    "plt.title(\"Etiquetas K-means Prime\")\n",
    "plt.xlabel(\"Conformación\")\n",
    "plt.ylabel(\"Cluster\")\n",
    "\n",
    "# Mostrar la gráfica\n",
    "plt.show()\n"
   ]
  },
  {
   "cell_type": "code",
   "execution_count": 33,
   "id": "caf3f170",
   "metadata": {},
   "outputs": [
    {
     "data": {
      "image/png": "[encoded data removed]",
      "text/plain": [
       "<Figure size 720x360 with 1 Axes>"
      ]
     },
     "metadata": {
      "needs_background": "light"
     },
     "output_type": "display_data"
    }
   ],
   "source": [
    "import numpy as np\n",
    "import seaborn as sns\n",
    "import matplotlib.pyplot as plt\n",
    "\n",
    "# Definir los frames de cada cluster\n",
    "cluster_0 = [0,1,9,10,11,12,14,15,16,18,19,29,21,22,23,24,25]\n",
    "cluster_1 = [2,3,4]\n",
    "cluster_2 = [5,6,8]\n",
    "cluster_3 = [17]\n",
    "cluster_4 = [13]\n",
    "\n",
    "# Crear un array de etiquetas (clusters) para cada frame\n",
    "num_frames = 26  # Total de frames\n",
    "labels_kmeans = np.zeros(num_frames)  # Inicializa las etiquetas a 0\n",
    "\n",
    "# Asignar las etiquetas de los clusters a cada frame\n",
    "for i in range(num_frames):\n",
    "    if i in cluster_0:\n",
    "        labels_kmeans[i] = 0\n",
    "    elif i in cluster_1:\n",
    "        labels_kmeans[i] = 1\n",
    "    elif i in cluster_2:\n",
    "        labels_kmeans[i] = 2\n",
    "    elif i in cluster_3:\n",
    "        labels_kmeans[i] = 3\n",
    "    elif i in cluster_4:\n",
    "        labels_kmeans[i] = 4\n",
    "\n",
    "# Crear la gráfica\n",
    "plt.figure(figsize=(10, 5))\n",
    "plt.subplot(1, 2, 1)\n",
    "sns.scatterplot(x=np.arange(num_frames), y=labels_kmeans, palette=\"viridis\", marker=\"o\")\n",
    "plt.title(\"Etiquetas Spectralclustering Prime\")\n",
    "plt.xlabel(\"Conformación\")\n",
    "plt.ylabel(\"Cluster\")\n",
    "\n",
    "# Mostrar la gráfica\n",
    "plt.show()\n"
   ]
  },
  {
   "cell_type": "code",
   "execution_count": null,
   "id": "ff030b07",
   "metadata": {},
   "outputs": [],
   "source": []
  }
 ],
 "metadata": {
  "kernelspec": {
   "display_name": "Python 3 (ipykernel)",
   "language": "python",
   "name": "python3"
  },
  "language_info": {
   "codemirror_mode": {
    "name": "ipython",
    "version": 3
   },
   "file_extension": ".py",
   "mimetype": "text/x-python",
   "name": "python",
   "nbconvert_exporter": "python",
   "pygments_lexer": "ipython3",
   "version": "3.12.2"
  }
 },
 "nbformat": 4,
 "nbformat_minor": 5
}
